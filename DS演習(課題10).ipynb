{
  "nbformat": 4,
  "nbformat_minor": 0,
  "metadata": {
    "colab": {
      "provenance": []
    },
    "kernelspec": {
      "name": "python3",
      "display_name": "Python 3"
    },
    "language_info": {
      "name": "python"
    }
  },
  "cells": [
    {
      "cell_type": "markdown",
      "source": [
        "**ライブラリの読み込み**"
      ],
      "metadata": {
        "id": "azUJLQXWfPLC"
      }
    },
    {
      "cell_type": "code",
      "execution_count": null,
      "metadata": {
        "id": "HyVMd-YeRuiN"
      },
      "outputs": [],
      "source": [
        "import numpy as np\n",
        "import pandas as pd\n",
        "import matplotlib.pyplot as plt"
      ]
    },
    {
      "cell_type": "code",
      "source": [
        "from sklearn.linear_model import LinearRegression\n",
        "from sklearn.model_selection import train_test_split\n",
        "from sklearn.metrics import mean_absolute_error\n",
        "from sklearn.metrics import mean_squared_error"
      ],
      "metadata": {
        "id": "FOiWbBu0JEXa"
      },
      "execution_count": null,
      "outputs": []
    },
    {
      "cell_type": "code",
      "source": [
        "from google.colab import drive\n",
        "drive.mount('/content/drive')"
      ],
      "metadata": {
        "colab": {
          "base_uri": "https://localhost:8080/"
        },
        "id": "IO3OwiZAR83U",
        "outputId": "d9f766f0-299e-4e16-cdf8-7c354953ce23"
      },
      "execution_count": null,
      "outputs": [
        {
          "output_type": "stream",
          "name": "stdout",
          "text": [
            "Mounted at /content/drive\n"
          ]
        }
      ]
    },
    {
      "cell_type": "markdown",
      "source": [
        "**前処理**"
      ],
      "metadata": {
        "id": "wMyEzmIOfWVz"
      }
    },
    {
      "cell_type": "code",
      "source": [
        "#データの読み込み（前後3ヶ月）\n",
        "df06 = pd.read_csv(\"/content/drive/MyDrive/POSdata/074_緑茶飲料_202206.csv\", encoding='shift-jis')\n",
        "df07 = pd.read_csv(\"/content/drive/MyDrive/POSdata/074_緑茶飲料_202207.csv\", encoding='shift-jis')\n",
        "df08 = pd.read_csv(\"/content/drive/MyDrive/POSdata/074_緑茶飲料_202208.csv\", encoding='shift-jis')"
      ],
      "metadata": {
        "id": "GgQT0zhLSBBk"
      },
      "execution_count": null,
      "outputs": []
    },
    {
      "cell_type": "code",
      "source": [
        "#追加データの読み込み\n",
        "#変数\n",
        "#・MM：POSデータと同様\n",
        "#・DD：POSデータと同様\n",
        "#・平均気温\n",
        "#・平均湿度\n",
        "df_add = pd.read_csv(\"add.csv\", encoding='shift-jis')"
      ],
      "metadata": {
        "id": "_osU1OjnJjuC"
      },
      "execution_count": null,
      "outputs": []
    },
    {
      "cell_type": "code",
      "source": [
        "#データの結合\n",
        "df = pd.concat([df06,df07,df08],axis=0)"
      ],
      "metadata": {
        "id": "7jPYIdKwSRzl"
      },
      "execution_count": null,
      "outputs": []
    },
    {
      "cell_type": "code",
      "source": [
        "#店舗IDをつける\n",
        "df['店舗ID'] = 0"
      ],
      "metadata": {
        "id": "6W_LSOzqNt8l"
      },
      "execution_count": null,
      "outputs": []
    },
    {
      "cell_type": "code",
      "source": [
        "before_DD = 0\n",
        "shopID = 0\n",
        "\n",
        "for index, row in df.iterrows():\n",
        "  if before_DD > row['DD']:\n",
        "    shopID = shopID + 1\n",
        "  df.at[index, '店舗ID'] = shopID\n",
        "  before_DD = row['DD']"
      ],
      "metadata": {
        "id": "LxAmgiDGN4IL"
      },
      "execution_count": null,
      "outputs": []
    },
    {
      "cell_type": "code",
      "source": [
        "df.columns"
      ],
      "metadata": {
        "colab": {
          "base_uri": "https://localhost:8080/"
        },
        "id": "wR4ONlQePOsl",
        "outputId": "70bc8021-a3e1-48ac-961c-6ec0e887a4b3"
      },
      "execution_count": null,
      "outputs": [
        {
          "output_type": "execute_result",
          "data": {
            "text/plain": [
              "Index(['店舗立地', 'レシート番号', 'YYYY', 'MM', 'DD', '曜日フラグ', '休日フラグ', 'hh', 'mm',\n",
              "       'ss', '購入者性別フラグ', '購入者年齢フラグ', '購入商品名', 'JANコード', '単価', '個数', '値段',\n",
              "       'メーカー名', '分類コード', '分類名', '店舗ID'],\n",
              "      dtype='object')"
            ]
          },
          "metadata": {},
          "execution_count": 10
        }
      ]
    },
    {
      "cell_type": "code",
      "source": [
        "df2 = pd.merge(df,df_add)"
      ],
      "metadata": {
        "id": "KOC1uQ8ARDXN"
      },
      "execution_count": null,
      "outputs": []
    },
    {
      "cell_type": "code",
      "source": [
        "df2['店舗ID'] = df2['店舗ID'] - 31"
      ],
      "metadata": {
        "id": "iWAV9HEQqBND"
      },
      "execution_count": null,
      "outputs": []
    },
    {
      "cell_type": "code",
      "source": [
        "#曜日の数字をカテゴリに変える\n",
        "week = [\"Mon\", \"Tue\", \"Wed\", \"Thu\", \"Fri\", \"Sat\", \"Sun\"]\n",
        "for i in range(1, 8):\n",
        "  df2[\"曜日フラグ\"] = df2[\"曜日フラグ\"].replace(i, week[i-1])"
      ],
      "metadata": {
        "id": "uyRsEqnNLg20"
      },
      "execution_count": null,
      "outputs": []
    },
    {
      "cell_type": "code",
      "source": [
        "df2"
      ],
      "metadata": {
        "colab": {
          "base_uri": "https://localhost:8080/",
          "height": 1000
        },
        "id": "2O4wX2zrflIL",
        "outputId": "085ead11-2bd0-4274-fc7e-0d53361a5e37"
      },
      "execution_count": null,
      "outputs": [
        {
          "output_type": "execute_result",
          "data": {
            "text/plain": [
              "         店舗立地  レシート番号  YYYY  MM  DD 曜日フラグ  休日フラグ  hh  mm  ss  ...  \\\n",
              "0       オフィス街   12945  2022   6   1   Wed    NaN   6  14  49  ...   \n",
              "1       オフィス街   12945  2022   6   1   Wed    NaN   6  14  49  ...   \n",
              "2       オフィス街   12945  2022   6   1   Wed    NaN   6  14  49  ...   \n",
              "3       オフィス街   12945  2022   6   1   Wed    NaN   6  14  49  ...   \n",
              "4       オフィス街   12945  2022   6   1   Wed    NaN   6  14  49  ...   \n",
              "...       ...     ...   ...  ..  ..   ...    ...  ..  ..  ..  ...   \n",
              "293558    住宅街  324714  2022   8  31   Wed    NaN  23  20  46  ...   \n",
              "293559    住宅街  324714  2022   8  31   Wed    NaN  23  20  46  ...   \n",
              "293560    住宅街  324714  2022   8  31   Wed    NaN  23  20  46  ...   \n",
              "293561    住宅街  324714  2022   8  31   Wed    NaN  23  20  46  ...   \n",
              "293562    住宅街  324714  2022   8  31   Wed    NaN  23  20  46  ...   \n",
              "\n",
              "               JANコード   単価 個数   値段          メーカー名     分類コード               分類名  \\\n",
              "0            49151947  144  1  144  サントリーホールディングス   76004.0   ペットボトル入りウーロン茶飲料   \n",
              "1       4901085191927  119  1  119            伊藤園   74004.0      ペットボトル入り緑茶飲料   \n",
              "2       9999999151485  139  1  139             ＰＢ   14014.0         おにぎり・おむすび   \n",
              "3       9999999176983    3  1    3             ＰＢ  900000.0            新規アイテム   \n",
              "4       9999999197438  146  1  146             ＰＢ   14014.0         おにぎり・おむすび   \n",
              "...               ...  ... ..  ...            ...       ...               ...   \n",
              "293558  4901777380004  138  1  138  サントリーホールディングス   79014.0  ペットボトル入り果汁入り清涼飲料   \n",
              "293559  4902102107648  119  1  119       日本コカ・コーラ   74004.0      ペットボトル入り緑茶飲料   \n",
              "293560  4902663014591  147  1  147          ひかり味噌  144011.0    即席カップ入りみそ汁・和風汁   \n",
              "293561  4902720148382  150  1  150           森永乳業  261999.0       その他レギュラーアイス   \n",
              "293562  9999999177089    3  1    3             ＰＢ  900000.0            新規アイテム   \n",
              "\n",
              "       店舗ID  平均気温 平均湿度  \n",
              "0         1  20.1   60  \n",
              "1         1  20.1   60  \n",
              "2         1  20.1   60  \n",
              "3         1  20.1   60  \n",
              "4         1  20.1   60  \n",
              "...     ...   ...  ...  \n",
              "293558   16  29.0   82  \n",
              "293559   16  29.0   82  \n",
              "293560   16  29.0   82  \n",
              "293561   16  29.0   82  \n",
              "293562   16  29.0   82  \n",
              "\n",
              "[293563 rows x 23 columns]"
            ],
            "text/html": [
              "\n",
              "  <div id=\"df-73a31e72-caae-4e1a-acab-3e2821884c82\">\n",
              "    <div class=\"colab-df-container\">\n",
              "      <div>\n",
              "<style scoped>\n",
              "    .dataframe tbody tr th:only-of-type {\n",
              "        vertical-align: middle;\n",
              "    }\n",
              "\n",
              "    .dataframe tbody tr th {\n",
              "        vertical-align: top;\n",
              "    }\n",
              "\n",
              "    .dataframe thead th {\n",
              "        text-align: right;\n",
              "    }\n",
              "</style>\n",
              "<table border=\"1\" class=\"dataframe\">\n",
              "  <thead>\n",
              "    <tr style=\"text-align: right;\">\n",
              "      <th></th>\n",
              "      <th>店舗立地</th>\n",
              "      <th>レシート番号</th>\n",
              "      <th>YYYY</th>\n",
              "      <th>MM</th>\n",
              "      <th>DD</th>\n",
              "      <th>曜日フラグ</th>\n",
              "      <th>休日フラグ</th>\n",
              "      <th>hh</th>\n",
              "      <th>mm</th>\n",
              "      <th>ss</th>\n",
              "      <th>...</th>\n",
              "      <th>JANコード</th>\n",
              "      <th>単価</th>\n",
              "      <th>個数</th>\n",
              "      <th>値段</th>\n",
              "      <th>メーカー名</th>\n",
              "      <th>分類コード</th>\n",
              "      <th>分類名</th>\n",
              "      <th>店舗ID</th>\n",
              "      <th>平均気温</th>\n",
              "      <th>平均湿度</th>\n",
              "    </tr>\n",
              "  </thead>\n",
              "  <tbody>\n",
              "    <tr>\n",
              "      <th>0</th>\n",
              "      <td>オフィス街</td>\n",
              "      <td>12945</td>\n",
              "      <td>2022</td>\n",
              "      <td>6</td>\n",
              "      <td>1</td>\n",
              "      <td>Wed</td>\n",
              "      <td>NaN</td>\n",
              "      <td>6</td>\n",
              "      <td>14</td>\n",
              "      <td>49</td>\n",
              "      <td>...</td>\n",
              "      <td>49151947</td>\n",
              "      <td>144</td>\n",
              "      <td>1</td>\n",
              "      <td>144</td>\n",
              "      <td>サントリーホールディングス</td>\n",
              "      <td>76004.0</td>\n",
              "      <td>ペットボトル入りウーロン茶飲料</td>\n",
              "      <td>1</td>\n",
              "      <td>20.1</td>\n",
              "      <td>60</td>\n",
              "    </tr>\n",
              "    <tr>\n",
              "      <th>1</th>\n",
              "      <td>オフィス街</td>\n",
              "      <td>12945</td>\n",
              "      <td>2022</td>\n",
              "      <td>6</td>\n",
              "      <td>1</td>\n",
              "      <td>Wed</td>\n",
              "      <td>NaN</td>\n",
              "      <td>6</td>\n",
              "      <td>14</td>\n",
              "      <td>49</td>\n",
              "      <td>...</td>\n",
              "      <td>4901085191927</td>\n",
              "      <td>119</td>\n",
              "      <td>1</td>\n",
              "      <td>119</td>\n",
              "      <td>伊藤園</td>\n",
              "      <td>74004.0</td>\n",
              "      <td>ペットボトル入り緑茶飲料</td>\n",
              "      <td>1</td>\n",
              "      <td>20.1</td>\n",
              "      <td>60</td>\n",
              "    </tr>\n",
              "    <tr>\n",
              "      <th>2</th>\n",
              "      <td>オフィス街</td>\n",
              "      <td>12945</td>\n",
              "      <td>2022</td>\n",
              "      <td>6</td>\n",
              "      <td>1</td>\n",
              "      <td>Wed</td>\n",
              "      <td>NaN</td>\n",
              "      <td>6</td>\n",
              "      <td>14</td>\n",
              "      <td>49</td>\n",
              "      <td>...</td>\n",
              "      <td>9999999151485</td>\n",
              "      <td>139</td>\n",
              "      <td>1</td>\n",
              "      <td>139</td>\n",
              "      <td>ＰＢ</td>\n",
              "      <td>14014.0</td>\n",
              "      <td>おにぎり・おむすび</td>\n",
              "      <td>1</td>\n",
              "      <td>20.1</td>\n",
              "      <td>60</td>\n",
              "    </tr>\n",
              "    <tr>\n",
              "      <th>3</th>\n",
              "      <td>オフィス街</td>\n",
              "      <td>12945</td>\n",
              "      <td>2022</td>\n",
              "      <td>6</td>\n",
              "      <td>1</td>\n",
              "      <td>Wed</td>\n",
              "      <td>NaN</td>\n",
              "      <td>6</td>\n",
              "      <td>14</td>\n",
              "      <td>49</td>\n",
              "      <td>...</td>\n",
              "      <td>9999999176983</td>\n",
              "      <td>3</td>\n",
              "      <td>1</td>\n",
              "      <td>3</td>\n",
              "      <td>ＰＢ</td>\n",
              "      <td>900000.0</td>\n",
              "      <td>新規アイテム</td>\n",
              "      <td>1</td>\n",
              "      <td>20.1</td>\n",
              "      <td>60</td>\n",
              "    </tr>\n",
              "    <tr>\n",
              "      <th>4</th>\n",
              "      <td>オフィス街</td>\n",
              "      <td>12945</td>\n",
              "      <td>2022</td>\n",
              "      <td>6</td>\n",
              "      <td>1</td>\n",
              "      <td>Wed</td>\n",
              "      <td>NaN</td>\n",
              "      <td>6</td>\n",
              "      <td>14</td>\n",
              "      <td>49</td>\n",
              "      <td>...</td>\n",
              "      <td>9999999197438</td>\n",
              "      <td>146</td>\n",
              "      <td>1</td>\n",
              "      <td>146</td>\n",
              "      <td>ＰＢ</td>\n",
              "      <td>14014.0</td>\n",
              "      <td>おにぎり・おむすび</td>\n",
              "      <td>1</td>\n",
              "      <td>20.1</td>\n",
              "      <td>60</td>\n",
              "    </tr>\n",
              "    <tr>\n",
              "      <th>...</th>\n",
              "      <td>...</td>\n",
              "      <td>...</td>\n",
              "      <td>...</td>\n",
              "      <td>...</td>\n",
              "      <td>...</td>\n",
              "      <td>...</td>\n",
              "      <td>...</td>\n",
              "      <td>...</td>\n",
              "      <td>...</td>\n",
              "      <td>...</td>\n",
              "      <td>...</td>\n",
              "      <td>...</td>\n",
              "      <td>...</td>\n",
              "      <td>...</td>\n",
              "      <td>...</td>\n",
              "      <td>...</td>\n",
              "      <td>...</td>\n",
              "      <td>...</td>\n",
              "      <td>...</td>\n",
              "      <td>...</td>\n",
              "      <td>...</td>\n",
              "    </tr>\n",
              "    <tr>\n",
              "      <th>293558</th>\n",
              "      <td>住宅街</td>\n",
              "      <td>324714</td>\n",
              "      <td>2022</td>\n",
              "      <td>8</td>\n",
              "      <td>31</td>\n",
              "      <td>Wed</td>\n",
              "      <td>NaN</td>\n",
              "      <td>23</td>\n",
              "      <td>20</td>\n",
              "      <td>46</td>\n",
              "      <td>...</td>\n",
              "      <td>4901777380004</td>\n",
              "      <td>138</td>\n",
              "      <td>1</td>\n",
              "      <td>138</td>\n",
              "      <td>サントリーホールディングス</td>\n",
              "      <td>79014.0</td>\n",
              "      <td>ペットボトル入り果汁入り清涼飲料</td>\n",
              "      <td>16</td>\n",
              "      <td>29.0</td>\n",
              "      <td>82</td>\n",
              "    </tr>\n",
              "    <tr>\n",
              "      <th>293559</th>\n",
              "      <td>住宅街</td>\n",
              "      <td>324714</td>\n",
              "      <td>2022</td>\n",
              "      <td>8</td>\n",
              "      <td>31</td>\n",
              "      <td>Wed</td>\n",
              "      <td>NaN</td>\n",
              "      <td>23</td>\n",
              "      <td>20</td>\n",
              "      <td>46</td>\n",
              "      <td>...</td>\n",
              "      <td>4902102107648</td>\n",
              "      <td>119</td>\n",
              "      <td>1</td>\n",
              "      <td>119</td>\n",
              "      <td>日本コカ・コーラ</td>\n",
              "      <td>74004.0</td>\n",
              "      <td>ペットボトル入り緑茶飲料</td>\n",
              "      <td>16</td>\n",
              "      <td>29.0</td>\n",
              "      <td>82</td>\n",
              "    </tr>\n",
              "    <tr>\n",
              "      <th>293560</th>\n",
              "      <td>住宅街</td>\n",
              "      <td>324714</td>\n",
              "      <td>2022</td>\n",
              "      <td>8</td>\n",
              "      <td>31</td>\n",
              "      <td>Wed</td>\n",
              "      <td>NaN</td>\n",
              "      <td>23</td>\n",
              "      <td>20</td>\n",
              "      <td>46</td>\n",
              "      <td>...</td>\n",
              "      <td>4902663014591</td>\n",
              "      <td>147</td>\n",
              "      <td>1</td>\n",
              "      <td>147</td>\n",
              "      <td>ひかり味噌</td>\n",
              "      <td>144011.0</td>\n",
              "      <td>即席カップ入りみそ汁・和風汁</td>\n",
              "      <td>16</td>\n",
              "      <td>29.0</td>\n",
              "      <td>82</td>\n",
              "    </tr>\n",
              "    <tr>\n",
              "      <th>293561</th>\n",
              "      <td>住宅街</td>\n",
              "      <td>324714</td>\n",
              "      <td>2022</td>\n",
              "      <td>8</td>\n",
              "      <td>31</td>\n",
              "      <td>Wed</td>\n",
              "      <td>NaN</td>\n",
              "      <td>23</td>\n",
              "      <td>20</td>\n",
              "      <td>46</td>\n",
              "      <td>...</td>\n",
              "      <td>4902720148382</td>\n",
              "      <td>150</td>\n",
              "      <td>1</td>\n",
              "      <td>150</td>\n",
              "      <td>森永乳業</td>\n",
              "      <td>261999.0</td>\n",
              "      <td>その他レギュラーアイス</td>\n",
              "      <td>16</td>\n",
              "      <td>29.0</td>\n",
              "      <td>82</td>\n",
              "    </tr>\n",
              "    <tr>\n",
              "      <th>293562</th>\n",
              "      <td>住宅街</td>\n",
              "      <td>324714</td>\n",
              "      <td>2022</td>\n",
              "      <td>8</td>\n",
              "      <td>31</td>\n",
              "      <td>Wed</td>\n",
              "      <td>NaN</td>\n",
              "      <td>23</td>\n",
              "      <td>20</td>\n",
              "      <td>46</td>\n",
              "      <td>...</td>\n",
              "      <td>9999999177089</td>\n",
              "      <td>3</td>\n",
              "      <td>1</td>\n",
              "      <td>3</td>\n",
              "      <td>ＰＢ</td>\n",
              "      <td>900000.0</td>\n",
              "      <td>新規アイテム</td>\n",
              "      <td>16</td>\n",
              "      <td>29.0</td>\n",
              "      <td>82</td>\n",
              "    </tr>\n",
              "  </tbody>\n",
              "</table>\n",
              "<p>293563 rows × 23 columns</p>\n",
              "</div>\n",
              "      <button class=\"colab-df-convert\" onclick=\"convertToInteractive('df-73a31e72-caae-4e1a-acab-3e2821884c82')\"\n",
              "              title=\"Convert this dataframe to an interactive table.\"\n",
              "              style=\"display:none;\">\n",
              "        \n",
              "  <svg xmlns=\"http://www.w3.org/2000/svg\" height=\"24px\"viewBox=\"0 0 24 24\"\n",
              "       width=\"24px\">\n",
              "    <path d=\"M0 0h24v24H0V0z\" fill=\"none\"/>\n",
              "    <path d=\"M18.56 5.44l.94 2.06.94-2.06 2.06-.94-2.06-.94-.94-2.06-.94 2.06-2.06.94zm-11 1L8.5 8.5l.94-2.06 2.06-.94-2.06-.94L8.5 2.5l-.94 2.06-2.06.94zm10 10l.94 2.06.94-2.06 2.06-.94-2.06-.94-.94-2.06-.94 2.06-2.06.94z\"/><path d=\"M17.41 7.96l-1.37-1.37c-.4-.4-.92-.59-1.43-.59-.52 0-1.04.2-1.43.59L10.3 9.45l-7.72 7.72c-.78.78-.78 2.05 0 2.83L4 21.41c.39.39.9.59 1.41.59.51 0 1.02-.2 1.41-.59l7.78-7.78 2.81-2.81c.8-.78.8-2.07 0-2.86zM5.41 20L4 18.59l7.72-7.72 1.47 1.35L5.41 20z\"/>\n",
              "  </svg>\n",
              "      </button>\n",
              "      \n",
              "  <style>\n",
              "    .colab-df-container {\n",
              "      display:flex;\n",
              "      flex-wrap:wrap;\n",
              "      gap: 12px;\n",
              "    }\n",
              "\n",
              "    .colab-df-convert {\n",
              "      background-color: #E8F0FE;\n",
              "      border: none;\n",
              "      border-radius: 50%;\n",
              "      cursor: pointer;\n",
              "      display: none;\n",
              "      fill: #1967D2;\n",
              "      height: 32px;\n",
              "      padding: 0 0 0 0;\n",
              "      width: 32px;\n",
              "    }\n",
              "\n",
              "    .colab-df-convert:hover {\n",
              "      background-color: #E2EBFA;\n",
              "      box-shadow: 0px 1px 2px rgba(60, 64, 67, 0.3), 0px 1px 3px 1px rgba(60, 64, 67, 0.15);\n",
              "      fill: #174EA6;\n",
              "    }\n",
              "\n",
              "    [theme=dark] .colab-df-convert {\n",
              "      background-color: #3B4455;\n",
              "      fill: #D2E3FC;\n",
              "    }\n",
              "\n",
              "    [theme=dark] .colab-df-convert:hover {\n",
              "      background-color: #434B5C;\n",
              "      box-shadow: 0px 1px 3px 1px rgba(0, 0, 0, 0.15);\n",
              "      filter: drop-shadow(0px 1px 2px rgba(0, 0, 0, 0.3));\n",
              "      fill: #FFFFFF;\n",
              "    }\n",
              "  </style>\n",
              "\n",
              "      <script>\n",
              "        const buttonEl =\n",
              "          document.querySelector('#df-73a31e72-caae-4e1a-acab-3e2821884c82 button.colab-df-convert');\n",
              "        buttonEl.style.display =\n",
              "          google.colab.kernel.accessAllowed ? 'block' : 'none';\n",
              "\n",
              "        async function convertToInteractive(key) {\n",
              "          const element = document.querySelector('#df-73a31e72-caae-4e1a-acab-3e2821884c82');\n",
              "          const dataTable =\n",
              "            await google.colab.kernel.invokeFunction('convertToInteractive',\n",
              "                                                     [key], {});\n",
              "          if (!dataTable) return;\n",
              "\n",
              "          const docLinkHtml = 'Like what you see? Visit the ' +\n",
              "            '<a target=\"_blank\" href=https://colab.research.google.com/notebooks/data_table.ipynb>data table notebook</a>'\n",
              "            + ' to learn more about interactive tables.';\n",
              "          element.innerHTML = '';\n",
              "          dataTable['output_type'] = 'display_data';\n",
              "          await google.colab.output.renderOutput(dataTable, element);\n",
              "          const docLink = document.createElement('div');\n",
              "          docLink.innerHTML = docLinkHtml;\n",
              "          element.appendChild(docLink);\n",
              "        }\n",
              "      </script>\n",
              "    </div>\n",
              "  </div>\n",
              "  "
            ]
          },
          "metadata": {},
          "execution_count": 14
        }
      ]
    },
    {
      "cell_type": "markdown",
      "source": [
        "パターン１"
      ],
      "metadata": {
        "id": "-mY3teHPzgt8"
      }
    },
    {
      "cell_type": "code",
      "source": [
        "#データの準備（店舗ID）\n",
        "df_num = df2.groupby(['店舗ID','DD'])['レシート番号'].nunique()\n",
        "df_sales = df2.groupby(['店舗ID','DD'])['値段'].sum()\n",
        "df_gender = df2.groupby(['店舗ID','DD'])['購入者性別フラグ'].first()\n",
        "df_place = df2.groupby(['店舗ID','DD'])['店舗立地'].first()\n",
        "df_week = df2.groupby(['店舗ID','DD'])['曜日フラグ'].first()\n",
        "df_holiday = df2.groupby(['店舗ID','DD'])['休日フラグ'].first()\n",
        "df_temperature = df2.groupby(['店舗ID','DD'])['平均気温'].first()\n",
        "df_humidity = df2.groupby(['店舗ID','DD'])['平均湿度'].first()"
      ],
      "metadata": {
        "id": "h0_aLSqKVI81"
      },
      "execution_count": null,
      "outputs": []
    },
    {
      "cell_type": "code",
      "source": [
        "df1_3 = pd.concat([df_sales, df_num,df_week, df_gender, df_place, df_holiday,df_temperature,df_humidity],axis=1,ignore_index=False)"
      ],
      "metadata": {
        "id": "rBHRLtHbV4uO"
      },
      "execution_count": null,
      "outputs": []
    },
    {
      "cell_type": "code",
      "source": [
        "#カテゴリカルデータの数値化\n",
        "df1_4 = pd.get_dummies(df1_3,drop_first=True)"
      ],
      "metadata": {
        "id": "2o_1hAFwL8Q2"
      },
      "execution_count": null,
      "outputs": []
    },
    {
      "cell_type": "code",
      "source": [
        "df1_5 = df1_4.fillna(0)"
      ],
      "metadata": {
        "id": "ZdTiSmi-eDOX"
      },
      "execution_count": null,
      "outputs": []
    },
    {
      "cell_type": "code",
      "source": [
        "df1_6 = df1_5.drop(['休日フラグ','平均気温',],axis=1)"
      ],
      "metadata": {
        "id": "P1BjrcZJJfPm"
      },
      "execution_count": null,
      "outputs": []
    },
    {
      "cell_type": "markdown",
      "source": [
        "パターン２"
      ],
      "metadata": {
        "id": "X2fZ2Be7zm3d"
      }
    },
    {
      "cell_type": "code",
      "source": [
        "#データの準備（性別）\n",
        "df_num2 = df2.groupby(['購入者性別フラグ','DD'])['レシート番号'].nunique()\n",
        "df_sales2 = df2.groupby(['購入者性別フラグ','DD'])['値段'].sum()\n",
        "df_gender2 = df2.groupby(['購入者性別フラグ','DD'])['店舗立地'].first()\n",
        "df_place2 = df2.groupby(['購入者性別フラグ','DD'])['店舗ID'].first()\n",
        "df_week2 = df2.groupby(['購入者性別フラグ','DD'])['曜日フラグ'].first()\n",
        "df_holiday2 = df2.groupby(['購入者性別フラグ','DD'])['休日フラグ'].first()\n",
        "df_temperature2 = df2.groupby(['購入者性別フラグ','DD'])['平均気温'].first()\n",
        "df_humidity2 = df2.groupby(['購入者性別フラグ','DD'])['平均湿度'].first()"
      ],
      "metadata": {
        "id": "QYXTbtr000bC"
      },
      "execution_count": null,
      "outputs": []
    },
    {
      "cell_type": "code",
      "source": [
        "df2_3 = pd.concat([df_sales2, df_num2,df_week2, df_gender2, df_place2, df_holiday2,df_temperature2,df_humidity2],axis=1,ignore_index=False)"
      ],
      "metadata": {
        "id": "kQbFohus1OX2"
      },
      "execution_count": null,
      "outputs": []
    },
    {
      "cell_type": "code",
      "source": [
        "#カテゴリカルデータの数値化\n",
        "df2_4 = pd.get_dummies(df2_3,drop_first=True)"
      ],
      "metadata": {
        "id": "p4izVUnx1X-l"
      },
      "execution_count": null,
      "outputs": []
    },
    {
      "cell_type": "code",
      "source": [
        "df2_5 = df2_4.fillna(0)"
      ],
      "metadata": {
        "id": "Mx6TspCt1cWd"
      },
      "execution_count": null,
      "outputs": []
    },
    {
      "cell_type": "code",
      "source": [
        "df2_6 = df2_5.drop(['休日フラグ','平均気温',],axis=1)"
      ],
      "metadata": {
        "id": "JmufcRD61hFi"
      },
      "execution_count": null,
      "outputs": []
    },
    {
      "cell_type": "code",
      "source": [
        "df2_6"
      ],
      "metadata": {
        "colab": {
          "base_uri": "https://localhost:8080/",
          "height": 533
        },
        "id": "arFQMmPT1nyr",
        "outputId": "f32e83b4-b7ac-4fc6-8726-f25c1a366ced"
      },
      "execution_count": null,
      "outputs": [
        {
          "output_type": "execute_result",
          "data": {
            "text/plain": [
              "                  値段  レシート番号  店舗ID  平均湿度  曜日フラグ_Mon  曜日フラグ_Sat  曜日フラグ_Sun  \\\n",
              "購入者性別フラグ DD                                                                 \n",
              "1        1   1519497    2421     1    60          0          0          0   \n",
              "         2   1434828    2102     1    57          0          0          0   \n",
              "         3   1237834    1852     1    64          0          0          0   \n",
              "         4   1403473    1995     1    53          0          1          0   \n",
              "         5   1231851    1802     1    73          0          0          1   \n",
              "...              ...     ...   ...   ...        ...        ...        ...   \n",
              "2        27   545023     748     2    79          1          0          0   \n",
              "         28   291047     403     1    74          0          0          0   \n",
              "         29   344546     559     1    71          0          0          0   \n",
              "         30   581012     785     1    66          0          0          0   \n",
              "         31   287244     391     2    70          0          0          1   \n",
              "\n",
              "             曜日フラグ_Thu  曜日フラグ_Tue  曜日フラグ_Wed  \n",
              "購入者性別フラグ DD                                   \n",
              "1        1           0          0          1  \n",
              "         2           1          0          0  \n",
              "         3           0          0          0  \n",
              "         4           0          0          0  \n",
              "         5           0          0          0  \n",
              "...                ...        ...        ...  \n",
              "2        27          0          0          0  \n",
              "         28          1          0          0  \n",
              "         29          0          0          0  \n",
              "         30          1          0          0  \n",
              "         31          0          0          0  \n",
              "\n",
              "[62 rows x 10 columns]"
            ],
            "text/html": [
              "\n",
              "  <div id=\"df-1dfb8b7c-256f-4133-b13b-8c781e400df5\">\n",
              "    <div class=\"colab-df-container\">\n",
              "      <div>\n",
              "<style scoped>\n",
              "    .dataframe tbody tr th:only-of-type {\n",
              "        vertical-align: middle;\n",
              "    }\n",
              "\n",
              "    .dataframe tbody tr th {\n",
              "        vertical-align: top;\n",
              "    }\n",
              "\n",
              "    .dataframe thead th {\n",
              "        text-align: right;\n",
              "    }\n",
              "</style>\n",
              "<table border=\"1\" class=\"dataframe\">\n",
              "  <thead>\n",
              "    <tr style=\"text-align: right;\">\n",
              "      <th></th>\n",
              "      <th></th>\n",
              "      <th>値段</th>\n",
              "      <th>レシート番号</th>\n",
              "      <th>店舗ID</th>\n",
              "      <th>平均湿度</th>\n",
              "      <th>曜日フラグ_Mon</th>\n",
              "      <th>曜日フラグ_Sat</th>\n",
              "      <th>曜日フラグ_Sun</th>\n",
              "      <th>曜日フラグ_Thu</th>\n",
              "      <th>曜日フラグ_Tue</th>\n",
              "      <th>曜日フラグ_Wed</th>\n",
              "    </tr>\n",
              "    <tr>\n",
              "      <th>購入者性別フラグ</th>\n",
              "      <th>DD</th>\n",
              "      <th></th>\n",
              "      <th></th>\n",
              "      <th></th>\n",
              "      <th></th>\n",
              "      <th></th>\n",
              "      <th></th>\n",
              "      <th></th>\n",
              "      <th></th>\n",
              "      <th></th>\n",
              "      <th></th>\n",
              "    </tr>\n",
              "  </thead>\n",
              "  <tbody>\n",
              "    <tr>\n",
              "      <th rowspan=\"5\" valign=\"top\">1</th>\n",
              "      <th>1</th>\n",
              "      <td>1519497</td>\n",
              "      <td>2421</td>\n",
              "      <td>1</td>\n",
              "      <td>60</td>\n",
              "      <td>0</td>\n",
              "      <td>0</td>\n",
              "      <td>0</td>\n",
              "      <td>0</td>\n",
              "      <td>0</td>\n",
              "      <td>1</td>\n",
              "    </tr>\n",
              "    <tr>\n",
              "      <th>2</th>\n",
              "      <td>1434828</td>\n",
              "      <td>2102</td>\n",
              "      <td>1</td>\n",
              "      <td>57</td>\n",
              "      <td>0</td>\n",
              "      <td>0</td>\n",
              "      <td>0</td>\n",
              "      <td>1</td>\n",
              "      <td>0</td>\n",
              "      <td>0</td>\n",
              "    </tr>\n",
              "    <tr>\n",
              "      <th>3</th>\n",
              "      <td>1237834</td>\n",
              "      <td>1852</td>\n",
              "      <td>1</td>\n",
              "      <td>64</td>\n",
              "      <td>0</td>\n",
              "      <td>0</td>\n",
              "      <td>0</td>\n",
              "      <td>0</td>\n",
              "      <td>0</td>\n",
              "      <td>0</td>\n",
              "    </tr>\n",
              "    <tr>\n",
              "      <th>4</th>\n",
              "      <td>1403473</td>\n",
              "      <td>1995</td>\n",
              "      <td>1</td>\n",
              "      <td>53</td>\n",
              "      <td>0</td>\n",
              "      <td>1</td>\n",
              "      <td>0</td>\n",
              "      <td>0</td>\n",
              "      <td>0</td>\n",
              "      <td>0</td>\n",
              "    </tr>\n",
              "    <tr>\n",
              "      <th>5</th>\n",
              "      <td>1231851</td>\n",
              "      <td>1802</td>\n",
              "      <td>1</td>\n",
              "      <td>73</td>\n",
              "      <td>0</td>\n",
              "      <td>0</td>\n",
              "      <td>1</td>\n",
              "      <td>0</td>\n",
              "      <td>0</td>\n",
              "      <td>0</td>\n",
              "    </tr>\n",
              "    <tr>\n",
              "      <th>...</th>\n",
              "      <th>...</th>\n",
              "      <td>...</td>\n",
              "      <td>...</td>\n",
              "      <td>...</td>\n",
              "      <td>...</td>\n",
              "      <td>...</td>\n",
              "      <td>...</td>\n",
              "      <td>...</td>\n",
              "      <td>...</td>\n",
              "      <td>...</td>\n",
              "      <td>...</td>\n",
              "    </tr>\n",
              "    <tr>\n",
              "      <th rowspan=\"5\" valign=\"top\">2</th>\n",
              "      <th>27</th>\n",
              "      <td>545023</td>\n",
              "      <td>748</td>\n",
              "      <td>2</td>\n",
              "      <td>79</td>\n",
              "      <td>1</td>\n",
              "      <td>0</td>\n",
              "      <td>0</td>\n",
              "      <td>0</td>\n",
              "      <td>0</td>\n",
              "      <td>0</td>\n",
              "    </tr>\n",
              "    <tr>\n",
              "      <th>28</th>\n",
              "      <td>291047</td>\n",
              "      <td>403</td>\n",
              "      <td>1</td>\n",
              "      <td>74</td>\n",
              "      <td>0</td>\n",
              "      <td>0</td>\n",
              "      <td>0</td>\n",
              "      <td>1</td>\n",
              "      <td>0</td>\n",
              "      <td>0</td>\n",
              "    </tr>\n",
              "    <tr>\n",
              "      <th>29</th>\n",
              "      <td>344546</td>\n",
              "      <td>559</td>\n",
              "      <td>1</td>\n",
              "      <td>71</td>\n",
              "      <td>0</td>\n",
              "      <td>0</td>\n",
              "      <td>0</td>\n",
              "      <td>0</td>\n",
              "      <td>0</td>\n",
              "      <td>0</td>\n",
              "    </tr>\n",
              "    <tr>\n",
              "      <th>30</th>\n",
              "      <td>581012</td>\n",
              "      <td>785</td>\n",
              "      <td>1</td>\n",
              "      <td>66</td>\n",
              "      <td>0</td>\n",
              "      <td>0</td>\n",
              "      <td>0</td>\n",
              "      <td>1</td>\n",
              "      <td>0</td>\n",
              "      <td>0</td>\n",
              "    </tr>\n",
              "    <tr>\n",
              "      <th>31</th>\n",
              "      <td>287244</td>\n",
              "      <td>391</td>\n",
              "      <td>2</td>\n",
              "      <td>70</td>\n",
              "      <td>0</td>\n",
              "      <td>0</td>\n",
              "      <td>1</td>\n",
              "      <td>0</td>\n",
              "      <td>0</td>\n",
              "      <td>0</td>\n",
              "    </tr>\n",
              "  </tbody>\n",
              "</table>\n",
              "<p>62 rows × 10 columns</p>\n",
              "</div>\n",
              "      <button class=\"colab-df-convert\" onclick=\"convertToInteractive('df-1dfb8b7c-256f-4133-b13b-8c781e400df5')\"\n",
              "              title=\"Convert this dataframe to an interactive table.\"\n",
              "              style=\"display:none;\">\n",
              "        \n",
              "  <svg xmlns=\"http://www.w3.org/2000/svg\" height=\"24px\"viewBox=\"0 0 24 24\"\n",
              "       width=\"24px\">\n",
              "    <path d=\"M0 0h24v24H0V0z\" fill=\"none\"/>\n",
              "    <path d=\"M18.56 5.44l.94 2.06.94-2.06 2.06-.94-2.06-.94-.94-2.06-.94 2.06-2.06.94zm-11 1L8.5 8.5l.94-2.06 2.06-.94-2.06-.94L8.5 2.5l-.94 2.06-2.06.94zm10 10l.94 2.06.94-2.06 2.06-.94-2.06-.94-.94-2.06-.94 2.06-2.06.94z\"/><path d=\"M17.41 7.96l-1.37-1.37c-.4-.4-.92-.59-1.43-.59-.52 0-1.04.2-1.43.59L10.3 9.45l-7.72 7.72c-.78.78-.78 2.05 0 2.83L4 21.41c.39.39.9.59 1.41.59.51 0 1.02-.2 1.41-.59l7.78-7.78 2.81-2.81c.8-.78.8-2.07 0-2.86zM5.41 20L4 18.59l7.72-7.72 1.47 1.35L5.41 20z\"/>\n",
              "  </svg>\n",
              "      </button>\n",
              "      \n",
              "  <style>\n",
              "    .colab-df-container {\n",
              "      display:flex;\n",
              "      flex-wrap:wrap;\n",
              "      gap: 12px;\n",
              "    }\n",
              "\n",
              "    .colab-df-convert {\n",
              "      background-color: #E8F0FE;\n",
              "      border: none;\n",
              "      border-radius: 50%;\n",
              "      cursor: pointer;\n",
              "      display: none;\n",
              "      fill: #1967D2;\n",
              "      height: 32px;\n",
              "      padding: 0 0 0 0;\n",
              "      width: 32px;\n",
              "    }\n",
              "\n",
              "    .colab-df-convert:hover {\n",
              "      background-color: #E2EBFA;\n",
              "      box-shadow: 0px 1px 2px rgba(60, 64, 67, 0.3), 0px 1px 3px 1px rgba(60, 64, 67, 0.15);\n",
              "      fill: #174EA6;\n",
              "    }\n",
              "\n",
              "    [theme=dark] .colab-df-convert {\n",
              "      background-color: #3B4455;\n",
              "      fill: #D2E3FC;\n",
              "    }\n",
              "\n",
              "    [theme=dark] .colab-df-convert:hover {\n",
              "      background-color: #434B5C;\n",
              "      box-shadow: 0px 1px 3px 1px rgba(0, 0, 0, 0.15);\n",
              "      filter: drop-shadow(0px 1px 2px rgba(0, 0, 0, 0.3));\n",
              "      fill: #FFFFFF;\n",
              "    }\n",
              "  </style>\n",
              "\n",
              "      <script>\n",
              "        const buttonEl =\n",
              "          document.querySelector('#df-1dfb8b7c-256f-4133-b13b-8c781e400df5 button.colab-df-convert');\n",
              "        buttonEl.style.display =\n",
              "          google.colab.kernel.accessAllowed ? 'block' : 'none';\n",
              "\n",
              "        async function convertToInteractive(key) {\n",
              "          const element = document.querySelector('#df-1dfb8b7c-256f-4133-b13b-8c781e400df5');\n",
              "          const dataTable =\n",
              "            await google.colab.kernel.invokeFunction('convertToInteractive',\n",
              "                                                     [key], {});\n",
              "          if (!dataTable) return;\n",
              "\n",
              "          const docLinkHtml = 'Like what you see? Visit the ' +\n",
              "            '<a target=\"_blank\" href=https://colab.research.google.com/notebooks/data_table.ipynb>data table notebook</a>'\n",
              "            + ' to learn more about interactive tables.';\n",
              "          element.innerHTML = '';\n",
              "          dataTable['output_type'] = 'display_data';\n",
              "          await google.colab.output.renderOutput(dataTable, element);\n",
              "          const docLink = document.createElement('div');\n",
              "          docLink.innerHTML = docLinkHtml;\n",
              "          element.appendChild(docLink);\n",
              "        }\n",
              "      </script>\n",
              "    </div>\n",
              "  </div>\n",
              "  "
            ]
          },
          "metadata": {},
          "execution_count": 46
        }
      ]
    },
    {
      "cell_type": "markdown",
      "source": [
        "**回帰モデル**"
      ],
      "metadata": {
        "id": "3YiQV-IgI6jc"
      }
    },
    {
      "cell_type": "markdown",
      "source": [
        "パターン１"
      ],
      "metadata": {
        "id": "3TqpZoE-zaRn"
      }
    },
    {
      "cell_type": "code",
      "source": [
        "value = pd.DataFrame(index=range(1,1001),columns=['係数','切片','学習モデルの決定係数','テストデータの決定係数','MAE','MSE'])"
      ],
      "metadata": {
        "id": "P13xpLrWUpTZ"
      },
      "execution_count": null,
      "outputs": []
    },
    {
      "cell_type": "code",
      "source": [
        "#学習モデルの決定係数とテストデータの決定係数の差の最小値\n",
        "min = 1 #決定係数の最大値\n",
        "tmp_i = 0 #決定係数の差が最小の時のrandom_stateの値\n",
        "tmp = 0\n",
        "\n",
        "for i in range(1,1001):\n",
        "  #学習７割、テスト３割\n",
        "  df_train, df_test = train_test_split(df1_6, test_size=0.3,random_state=i)\n",
        "\n",
        "  #学習データとテストデータの目的変数と説明変数の作成\n",
        "  #目的変数y：値段\n",
        "  #説明変数X：その他\n",
        "  X_train = df_train.drop('値段', axis=1)\n",
        "  y_train = df_train['値段']\n",
        "  X_test = df_test.drop('値段', axis=1)\n",
        "  y_test = df_test['値段']\n",
        "\n",
        "  #モデルのインスタンスの作成\n",
        "  model = LinearRegression()\n",
        "\n",
        "  #回帰分析の実行\n",
        "  model.fit(X_train, y_train)\n",
        "\n",
        "  #係数\n",
        "  value.at[i,'係数'] = model.coef_\n",
        "\n",
        "  # 切片\n",
        "  value.at[i,'切片'] = model.intercept_\n",
        "\n",
        "  #学習モデルの決定係数\n",
        "  value.at[i,'学習モデルの決定係数'] = model.score(X_train, y_train)\n",
        "  r_train = model.score(X_train, y_train)\n",
        "\n",
        "  #テストデータの決定係数\n",
        "  value.at[i,'テストデータの決定係数'] = model.score(X_test, y_test)\n",
        "  r_test = model.score(X_test, y_test)\n",
        "\n",
        "  #テストデータの予測\n",
        "  y_pred = model.predict(X_test)\n",
        "\n",
        "  #平均絶対誤差 (MAE)\n",
        "  value.at[i,'MAE'] = mean_absolute_error(y_test, y_pred)\n",
        "\n",
        "  #平均二乗誤差 (MSE)\n",
        "  value.at[i,'MSE'] = mean_squared_error(y_test, y_pred)\n",
        "\n",
        "  #決定係数の差\n",
        "  if r_train >= r_test:\n",
        "    tmp = r_train - r_test\n",
        "  else:\n",
        "    tmp = r_test - r_train\n",
        "\n",
        "  if min > tmp:\n",
        "    min = tmp\n",
        "    tmp_i = i\n",
        "\n",
        "print('決定係数の差の最小値：',min)\n",
        "print('その時のrandom_stateの値：',tmp_i)\n",
        "print('その時の学習モデルの決定係数',value.at[tmp_i,'学習モデルの決定係数'])\n",
        "print('その時のテストデータの決定係数',value.at[tmp_i,'テストデータの決定係数'])\n",
        "print('その時の平均絶対誤差 (MAE)：',value.at[tmp_i,'MAE'])\n",
        "print('その時の平均二乗誤差 (MSE)：',value.at[tmp_i,'MSE'])"
      ],
      "metadata": {
        "colab": {
          "base_uri": "https://localhost:8080/"
        },
        "id": "GY_i1l4XVxsM",
        "outputId": "5e2af6a5-b524-4b97-9223-51d4595503be"
      },
      "execution_count": null,
      "outputs": [
        {
          "output_type": "stream",
          "name": "stdout",
          "text": [
            "決定係数の差の最小値： 0.00015344084201063257\n",
            "その時のrandom_stateの値： 511\n",
            "その時の学習モデルの決定係数 0.8841312805773394\n",
            "その時のテストデータの決定係数 0.88428472141935\n",
            "その時の平均絶対誤差 (MAE)： 16611.58458778577\n",
            "その時の平均二乗誤差 (MSE)： 659870132.6339313\n"
          ]
        }
      ]
    },
    {
      "cell_type": "code",
      "source": [
        "print('[指標の平均]')\n",
        "print('学習モデルの決定係数：',value.学習モデルの決定係数.mean())\n",
        "print('テストデータの決定係数：',value.テストデータの決定係数.mean())\n",
        "print('平均絶対誤差 (MAE)：',value.MAE.mean())\n",
        "print('平均二乗誤差 (MSE)：',value.MSE.mean())"
      ],
      "metadata": {
        "colab": {
          "base_uri": "https://localhost:8080/"
        },
        "id": "ENuuE8hSXefJ",
        "outputId": "8633adcf-c3f0-411e-f798-e7aafc6f51eb"
      },
      "execution_count": null,
      "outputs": [
        {
          "output_type": "stream",
          "name": "stdout",
          "text": [
            "[指標の平均]\n",
            "学習モデルの決定係数： 0.8878154153883299\n",
            "テストデータの決定係数： 0.8789722638024904\n",
            "平均絶対誤差 (MAE)： 16569.86234991848\n",
            "平均二乗誤差 (MSE)： 594963072.9524009\n"
          ]
        }
      ]
    },
    {
      "cell_type": "markdown",
      "source": [
        "パターン２"
      ],
      "metadata": {
        "id": "3m8Gn6JVzp0C"
      }
    },
    {
      "cell_type": "code",
      "source": [
        "value2 = pd.DataFrame(index=range(1,1001),columns=['係数','切片','学習モデルの決定係数','テストデータの決定係数','MAE','MSE'])"
      ],
      "metadata": {
        "id": "x7-78sTV1wLW"
      },
      "execution_count": null,
      "outputs": []
    },
    {
      "cell_type": "code",
      "source": [
        "#学習モデルの決定係数とテストデータの決定係数の差の最小値\n",
        "min2 = 1 #決定係数の最大値\n",
        "tmp_i2 = 0 #決定係数の差が最小の時のrandom_stateの値\n",
        "tmp2 = 0\n",
        "\n",
        "for i2 in range(1,1001):\n",
        "  #学習７割、テスト３割\n",
        "  df_train2, df_test2 = train_test_split(df2_6, test_size=0.3,random_state=i2)\n",
        "\n",
        "  #学習データとテストデータの目的変数と説明変数の作成\n",
        "  #目的変数y：値段\n",
        "  #説明変数X：その他\n",
        "  X_train2 = df_train2.drop('値段', axis=1)\n",
        "  y_train2 = df_train2['値段']\n",
        "  X_test2 = df_test2.drop('値段', axis=1)\n",
        "  y_test2 = df_test2['値段']\n",
        "\n",
        "  #モデルのインスタンスの作成\n",
        "  model2 = LinearRegression()\n",
        "\n",
        "  #回帰分析の実行\n",
        "  model2.fit(X_train2, y_train2)\n",
        "\n",
        "  #係数\n",
        "  value2.at[i2,'係数'] = model2.coef_\n",
        "\n",
        "  # 切片\n",
        "  value2.at[i2,'切片'] = model2.intercept_\n",
        "\n",
        "  #学習モデルの決定係数\n",
        "  value2.at[i2,'学習モデルの決定係数'] = model2.score(X_train2, y_train2)\n",
        "  r_train2 = model2.score(X_train2, y_train2)\n",
        "\n",
        "  #テストデータの決定係数\n",
        "  value2.at[i2,'テストデータの決定係数'] = model2.score(X_test2, y_test2)\n",
        "  r_test2 = model2.score(X_test2, y_test2)\n",
        "\n",
        "  #テストデータの予測\n",
        "  y_pred2 = model2.predict(X_test2)\n",
        "\n",
        "  #平均絶対誤差 (MAE)\n",
        "  value2.at[i2,'MAE'] = mean_absolute_error(y_test2, y_pred2)\n",
        "\n",
        "  #平均二乗誤差 (MSE)\n",
        "  value2.at[i2,'MSE'] = mean_squared_error(y_test2, y_pred2)\n",
        "\n",
        "  #決定係数の差\n",
        "  if r_train2 >= r_test2:\n",
        "    tmp2 = r_train2 - r_test2\n",
        "  else:\n",
        "    tmp2 = r_test2 - r_train2\n",
        "\n",
        "  if min2 > tmp2:\n",
        "    min2 = tmp2\n",
        "    tmp_i2 = i2\n",
        "\n",
        "print('決定係数の差の最小値：',min2)\n",
        "print('その時のrandom_stateの値：',tmp_i2)\n",
        "print('その時の学習モデルの決定係数',value2.at[tmp_i2,'学習モデルの決定係数'])\n",
        "print('その時のテストデータの決定係数',value2.at[tmp_i2,'テストデータの決定係数'])\n",
        "print('その時の平均絶対誤差 (MAE)：',value2.at[tmp_i2,'MAE'])\n",
        "print('その時の平均二乗誤差 (MSE)：',value2.at[tmp_i2,'MSE'])"
      ],
      "metadata": {
        "colab": {
          "base_uri": "https://localhost:8080/"
        },
        "id": "towsoLCW12RL",
        "outputId": "ab4d816f-39af-4ead-b533-dcbb8516051c"
      },
      "execution_count": null,
      "outputs": [
        {
          "output_type": "stream",
          "name": "stdout",
          "text": [
            "決定係数の差の最小値： 1.249140102099755e-05\n",
            "その時のrandom_stateの値： 207\n",
            "その時の学習モデルの決定係数 0.9864320263197951\n",
            "その時のテストデータの決定係数 0.9864445177208161\n",
            "その時の平均絶対誤差 (MAE)： 33341.19283668869\n",
            "その時の平均二乗誤差 (MSE)： 2322003744.6524587\n"
          ]
        }
      ]
    },
    {
      "cell_type": "code",
      "source": [
        "print('[指標の平均]')\n",
        "print('学習モデルの決定係数：',value2.学習モデルの決定係数.mean())\n",
        "print('テストデータの決定係数：',value2.テストデータの決定係数.mean())\n",
        "print('平均絶対誤差 (MAE)：',value2.MAE.mean())\n",
        "print('平均二乗誤差 (MSE)：',value2.MSE.mean())"
      ],
      "metadata": {
        "colab": {
          "base_uri": "https://localhost:8080/"
        },
        "id": "PaCG85BU3ElD",
        "outputId": "ef7ae9aa-fbe7-421e-8ebd-3ebafe56e3d1"
      },
      "execution_count": null,
      "outputs": [
        {
          "output_type": "stream",
          "name": "stdout",
          "text": [
            "[指標の平均]\n",
            "学習モデルの決定係数： 0.988952361111767\n",
            "テストデータの決定係数： 0.9792536504755759\n",
            "平均絶対誤差 (MAE)： 40693.78897346811\n",
            "平均二乗誤差 (MSE)： 3336667438.1051097\n"
          ]
        }
      ]
    }
  ]
}